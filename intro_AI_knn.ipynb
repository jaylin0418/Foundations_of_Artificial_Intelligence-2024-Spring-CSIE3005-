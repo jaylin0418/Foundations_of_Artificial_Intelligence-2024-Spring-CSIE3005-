{
  "cells": [
    {
      "cell_type": "markdown",
      "metadata": {
        "id": "view-in-github",
        "colab_type": "text"
      },
      "source": [
        "<a href=\"https://colab.research.google.com/github/jaylin0418/Foundations_of_Artificial_Intelligence-2024-Spring-CSIE3005-/blob/main/intro_AI_knn.ipynb\" target=\"_parent\"><img src=\"https://colab.research.google.com/assets/colab-badge.svg\" alt=\"Open In Colab\"/></a>"
      ]
    },
    {
      "cell_type": "code",
      "execution_count": null,
      "metadata": {
        "id": "Jm544WgyHMwU"
      },
      "outputs": [],
      "source": [
        "from sklearn.datasets import load_digits\n",
        "from sklearn.neighbors import KNeighborsClassifier\n",
        "import matplotlib.pyplot as plt\n",
        "import numpy as np\n",
        "from sklearn.metrics import accuracy_score\n",
        "\n",
        "# 1. 下載手寫數字數據集\n",
        "digits = load_digits()\n",
        "data = digits.data  # (1797, 64)，每個數字是一個 8x8 的圖像展平為 64 維\n",
        "labels = digits.target  # 真實標籤 (0-9)\n"
      ]
    },
    {
      "cell_type": "code",
      "execution_count": null,
      "metadata": {
        "id": "ob14hV7DHMwc"
      },
      "outputs": [],
      "source": [
        "# 2. 使用 KNN 進行分類\n",
        "# 將數據集分為訓練集和測試集\n",
        "from sklearn.model_selection import train_test_split\n",
        "\n",
        "X_train, X_test, y_train, y_test = train_test_split(data, labels, test_size=0.3, random_state=42)\n",
        "\n",
        "# 定義 KNN 模型，選擇適當的 k 值\n",
        "knn = KNeighborsClassifier(n_neighbors=3)\n",
        "knn.fit(X_train, y_train)\n",
        "\n",
        "# 預測\n",
        "predicted_labels = knn.predict(X_test)"
      ]
    },
    {
      "cell_type": "code",
      "execution_count": null,
      "metadata": {
        "id": "fMveaCz0HMwd",
        "outputId": "b1ffa256-a785-4079-e4d0-c091a8d6fc03"
      },
      "outputs": [
        {
          "data": {
            "image/png": "[encoded data removed]",
            "text/plain": [
              "<Figure size 1000x300 with 10 Axes>"
            ]
          },
          "metadata": {},
          "output_type": "display_data"
        }
      ],
      "source": [
        "# 3. 視覺化分類結果\n",
        "def plot_digits(data, predicted_labels, true_labels, title):\n",
        "    fig, axes = plt.subplots(1, 10, figsize=(10, 3))\n",
        "    for i, ax in enumerate(axes):\n",
        "        ax.set_axis_off()\n",
        "        ax.imshow(data[i].reshape(8, 8), cmap='gray')\n",
        "        ax.set_title(f\"P:{predicted_labels[i]}\\nT:{true_labels[i]}\")\n",
        "    plt.suptitle(title)\n",
        "    plt.tight_layout()\n",
        "    plt.show()\n",
        "\n",
        "# 隨機選擇 10 個數字，顯示其分類結果\n",
        "rng = np.random.default_rng()\n",
        "indices = rng.choice(len(X_test), size=10, replace=False)\n",
        "plot_digits(X_test[indices], predicted_labels[indices], y_test[indices], \"KNN Classification\")"
      ]
    },
    {
      "cell_type": "code",
      "execution_count": null,
      "metadata": {
        "id": "x_yQQuLXHMwg",
        "outputId": "6753ddfa-9297-4a7e-b284-6d831bf87d03"
      },
      "outputs": [
        {
          "name": "stdout",
          "output_type": "stream",
          "text": [
            "Predicted labels:  [3 9 6 9 5 9 4 4 7 3]\n",
            "True labels:       [3 9 6 9 5 9 4 4 7 3]\n",
            "KNN 分類準確率: 98.89%\n"
          ]
        }
      ],
      "source": [
        "# 4. 顯示與真實標籤的比較\n",
        "print(\"Predicted labels: \", predicted_labels[indices])\n",
        "print(\"True labels:      \", y_test[indices])\n",
        "\n",
        "# 5. 計算分類準確率\n",
        "accuracy = accuracy_score(y_test, predicted_labels)\n",
        "print(f\"KNN 分類準確率: {accuracy * 100:.2f}%\")"
      ]
    }
  ],
  "metadata": {
    "kernelspec": {
      "display_name": "FAI",
      "language": "python",
      "name": "python3"
    },
    "language_info": {
      "codemirror_mode": {
        "name": "ipython",
        "version": 3
      },
      "file_extension": ".py",
      "mimetype": "text/x-python",
      "name": "python",
      "nbconvert_exporter": "python",
      "pygments_lexer": "ipython3",
      "version": "3.8.18"
    },
    "colab": {
      "provenance": [],
      "include_colab_link": true
    }
  },
  "nbformat": 4,
  "nbformat_minor": 0
}