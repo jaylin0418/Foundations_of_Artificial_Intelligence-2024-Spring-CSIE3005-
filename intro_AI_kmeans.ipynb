{
  "cells": [
    {
      "cell_type": "markdown",
      "metadata": {
        "id": "view-in-github",
        "colab_type": "text"
      },
      "source": [
        "<a href=\"https://colab.research.google.com/github/jaylin0418/Foundations_of_Artificial_Intelligence-2024-Spring-CSIE3005-/blob/main/intro_AI_kmeans.ipynb\" target=\"_parent\"><img src=\"https://colab.research.google.com/assets/colab-badge.svg\" alt=\"Open In Colab\"/></a>"
      ]
    },
    {
      "cell_type": "code",
      "execution_count": null,
      "metadata": {
        "id": "D1_-YoqWHBQw"
      },
      "outputs": [],
      "source": [
        "from sklearn.datasets import load_digits\n",
        "from sklearn.cluster import KMeans\n",
        "import matplotlib.pyplot as plt\n",
        "import numpy as np\n",
        "from sklearn.metrics import accuracy_score\n",
        "from scipy.optimize import linear_sum_assignment\n",
        "\n",
        "# 1. 下載手寫數字數據集\n",
        "digits = load_digits()\n",
        "data = digits.data  # (1797, 64)，每個數字是一個 8x8 的圖像展平為 64 維\n",
        "labels = digits.target  # 真實標籤 (0-9)\n"
      ]
    },
    {
      "cell_type": "code",
      "execution_count": null,
      "metadata": {
        "id": "Xt7iNxSAHBQ4"
      },
      "outputs": [],
      "source": [
        "# 2. 使用 K-means 分群\n",
        "kmeans = KMeans(n_clusters=10, random_state=42, n_init=10)  # 修正：添加 n_init=10\n",
        "kmeans.fit(data)\n",
        "cluster_labels = kmeans.labels_"
      ]
    },
    {
      "cell_type": "code",
      "execution_count": null,
      "metadata": {
        "id": "5YJQiuCiHBQ5",
        "outputId": "165f1776-8363-45f9-921c-691fe3311421"
      },
      "outputs": [
        {
          "name": "stdout",
          "output_type": "stream",
          "text": [
            "C 代表分群結果，T 代表真實標籤，C 只代表 K-means 分群的結果。例如 C = 5 不代表真實標籤是 5\n"
          ]
        },
        {
          "data": {
            "image/png": "[encoded data removed]",
            "text/plain": [
              "<Figure size 1000x300 with 10 Axes>"
            ]
          },
          "metadata": {},
          "output_type": "display_data"
        }
      ],
      "source": [
        "# 3. 視覺化分群結果\n",
        "def plot_digits(data, cluster_labels, true_labels, title):\n",
        "    fig, axes = plt.subplots(1, 10, figsize=(10, 3))\n",
        "    for i, ax in enumerate(axes):\n",
        "        ax.set_axis_off()\n",
        "        ax.imshow(data[i].reshape(8, 8), cmap='gray')\n",
        "        ax.set_title(f\"C:{cluster_labels[i]}\\nT:{true_labels[i]}\")\n",
        "    plt.suptitle(title)\n",
        "    plt.tight_layout()\n",
        "    plt.show()\n",
        "\n",
        "print(\"C 代表分群結果，T 代表真實標籤，C 只代表 K-means 分群的結果。例如 C = 5 不代表真實標籤是 5\")\n",
        "# 隨機選擇 10 個數字，顯示其分群結果\n",
        "rng = np.random.default_rng()  # 使用新的隨機生成器\n",
        "indices = rng.choice(len(data), size=20, replace=False)\n",
        "plot_digits(data[indices], cluster_labels[indices], labels[indices], \"K-means Clustering\")"
      ]
    },
    {
      "cell_type": "code",
      "execution_count": null,
      "metadata": {
        "id": "MsN2LuMmHBQ8",
        "outputId": "eea3bec0-183a-45eb-f75e-9615e2690f04"
      },
      "outputs": [
        {
          "name": "stdout",
          "output_type": "stream",
          "text": [
            "Cluster labels:  [1 2 3 0 4 0 5 4 5 6 5 1 8 3 0 3 5 6 7 3]\n",
            "True labels:    [0 9 4 2 4 2 6 7 6 3 6 0 9 1 2 1 6 2 5 8]\n"
          ]
        }
      ],
      "source": [
        "# 4. 顯示與真實標籤的比較\n",
        "print(\"Cluster labels: \", cluster_labels[indices])\n",
        "print(\"True labels:   \", labels[indices])"
      ]
    },
    {
      "cell_type": "code",
      "execution_count": null,
      "metadata": {
        "id": "7M_zJci6HBQ-",
        "outputId": "0cc22e88-a341-484a-9e74-27effda0ec47"
      },
      "outputs": [
        {
          "name": "stdout",
          "output_type": "stream",
          "text": [
            "K-means 分群準確率: 79.35%\n"
          ]
        }
      ],
      "source": [
        "# 5. 計算分群準確率\n",
        "def calculate_accuracy(true_labels, cluster_labels):\n",
        "    num_classes = len(np.unique(true_labels))\n",
        "    confusion_matrix = np.zeros((num_classes, num_classes), dtype=int)\n",
        "    for true, cluster in zip(true_labels, cluster_labels):\n",
        "        confusion_matrix[true, cluster] += 1\n",
        "\n",
        "    # 使用匈牙利算法尋找最佳配對 (cluster index -> true label index)\n",
        "    row_ind, col_ind = linear_sum_assignment(-confusion_matrix)  # 最大化匹配\n",
        "    matching = dict(zip(col_ind, row_ind))\n",
        "\n",
        "    # 重新 map 分群標籤\n",
        "    remapped_labels = np.array([matching[label] for label in cluster_labels])\n",
        "\n",
        "    # 計算 accuracy\n",
        "    return accuracy_score(true_labels, remapped_labels)\n",
        "\n",
        "accuracy = calculate_accuracy(labels, cluster_labels)\n",
        "print(f\"K-means 分群準確率: {accuracy * 100:.2f}%\")"
      ]
    }
  ],
  "metadata": {
    "kernelspec": {
      "display_name": "FAI",
      "language": "python",
      "name": "python3"
    },
    "language_info": {
      "codemirror_mode": {
        "name": "ipython",
        "version": 3
      },
      "file_extension": ".py",
      "mimetype": "text/x-python",
      "name": "python",
      "nbconvert_exporter": "python",
      "pygments_lexer": "ipython3",
      "version": "3.8.18"
    },
    "colab": {
      "provenance": [],
      "include_colab_link": true
    }
  },
  "nbformat": 4,
  "nbformat_minor": 0
}